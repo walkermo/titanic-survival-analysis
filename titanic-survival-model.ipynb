{
 "cells": [
  {
   "cell_type": "markdown",
   "metadata": {},
   "source": [
    "# Titanic Survival Analysis\n",
    "\n",
    "For this analysis, I tested several different classification algorithms and ultimately used a random forest classifier to predict whether or not a passenger on the Titanic survived. The model used the following attributes of the passengers on board, most of which were converted into binary, numeric categorical variables:\n",
    "- Passenger Class\n",
    "- Title, which was derived from the originally provided name column\n",
    "- Sex\n",
    "- Age, which I converted into a set of 10-year age range columns.\n",
    " - Linear regression was used to impute missing ages.\n",
    "- The number of siblings or spouse a pasenger traveled with, which I converted into a set of binary categorical variables.\n",
    "- The number of parents or children a pasenger traveled with, which I converted into a set of binary categorical variables.\n",
    "- The deck a passenger stayed on.\n",
    "- Ticket fare, which was left as a continuous variable\n",
    "- Where a passenger embarked from."
   ]
  },
  {
   "cell_type": "code",
   "execution_count": 1,
   "metadata": {},
   "outputs": [],
   "source": [
    "import pandas as pd\n",
    "import numpy as np\n",
    "from sklearn.linear_model import LogisticRegression, LinearRegression\n",
    "from sklearn.model_selection import train_test_split, cross_val_score, cross_val_predict, GridSearchCV\n",
    "from sklearn.metrics import accuracy_score, r2_score\n",
    "import matplotlib.pyplot as plt\n",
    "from sklearn.ensemble import RandomForestClassifier\n",
    "from sklearn.svm import LinearSVC\n",
    "from sklearn.neighbors import KNeighborsClassifier\n",
    "from sklearn.tree import DecisionTreeClassifier\n",
    "from math import isnan"
   ]
  },
  {
   "cell_type": "markdown",
   "metadata": {},
   "source": [
    "## Previewing and summarizing the data"
   ]
  },
  {
   "cell_type": "code",
   "execution_count": 2,
   "metadata": {},
   "outputs": [],
   "source": [
    "### read in the training and test datasets and set passengerId as the index in both\n",
    "train_df = pd.read_csv('train.csv', encoding = 'latin1')\n",
    "train_df = train_df.set_index('PassengerId')\n",
    "\n",
    "test_df = pd.read_csv('test.csv', encoding = 'latin1')\n",
    "test_df = test_df.set_index('PassengerId')\n",
    "\n",
    "### We're going to make feature selections and missing value imputations that will\n",
    "### need to apply to both train and test data, so let's combine them into a df that \n",
    "### we will split back out into train and test data later\n",
    "combined_df = train_df.append(test_df)"
   ]
  },
  {
   "cell_type": "code",
   "execution_count": 3,
   "metadata": {},
   "outputs": [
    {
     "data": {
      "text/html": [
       "<div>\n",
       "<style scoped>\n",
       "    .dataframe tbody tr th:only-of-type {\n",
       "        vertical-align: middle;\n",
       "    }\n",
       "\n",
       "    .dataframe tbody tr th {\n",
       "        vertical-align: top;\n",
       "    }\n",
       "\n",
       "    .dataframe thead th {\n",
       "        text-align: right;\n",
       "    }\n",
       "</style>\n",
       "<table border=\"1\" class=\"dataframe\">\n",
       "  <thead>\n",
       "    <tr style=\"text-align: right;\">\n",
       "      <th></th>\n",
       "      <th>Survived</th>\n",
       "      <th>Pclass</th>\n",
       "      <th>Name</th>\n",
       "      <th>Sex</th>\n",
       "      <th>Age</th>\n",
       "      <th>SibSp</th>\n",
       "      <th>Parch</th>\n",
       "      <th>Ticket</th>\n",
       "      <th>Fare</th>\n",
       "      <th>Cabin</th>\n",
       "      <th>Embarked</th>\n",
       "    </tr>\n",
       "    <tr>\n",
       "      <th>PassengerId</th>\n",
       "      <th></th>\n",
       "      <th></th>\n",
       "      <th></th>\n",
       "      <th></th>\n",
       "      <th></th>\n",
       "      <th></th>\n",
       "      <th></th>\n",
       "      <th></th>\n",
       "      <th></th>\n",
       "      <th></th>\n",
       "      <th></th>\n",
       "    </tr>\n",
       "  </thead>\n",
       "  <tbody>\n",
       "    <tr>\n",
       "      <th>1</th>\n",
       "      <td>0</td>\n",
       "      <td>3</td>\n",
       "      <td>Braund, Mr. Owen Harris</td>\n",
       "      <td>male</td>\n",
       "      <td>22.0</td>\n",
       "      <td>1</td>\n",
       "      <td>0</td>\n",
       "      <td>A/5 21171</td>\n",
       "      <td>7.2500</td>\n",
       "      <td>NaN</td>\n",
       "      <td>S</td>\n",
       "    </tr>\n",
       "    <tr>\n",
       "      <th>2</th>\n",
       "      <td>1</td>\n",
       "      <td>1</td>\n",
       "      <td>Cumings, Mrs. John Bradley (Florence Briggs Th...</td>\n",
       "      <td>female</td>\n",
       "      <td>38.0</td>\n",
       "      <td>1</td>\n",
       "      <td>0</td>\n",
       "      <td>PC 17599</td>\n",
       "      <td>71.2833</td>\n",
       "      <td>C85</td>\n",
       "      <td>C</td>\n",
       "    </tr>\n",
       "    <tr>\n",
       "      <th>3</th>\n",
       "      <td>1</td>\n",
       "      <td>3</td>\n",
       "      <td>Heikkinen, Miss. Laina</td>\n",
       "      <td>female</td>\n",
       "      <td>26.0</td>\n",
       "      <td>0</td>\n",
       "      <td>0</td>\n",
       "      <td>STON/O2. 3101282</td>\n",
       "      <td>7.9250</td>\n",
       "      <td>NaN</td>\n",
       "      <td>S</td>\n",
       "    </tr>\n",
       "    <tr>\n",
       "      <th>4</th>\n",
       "      <td>1</td>\n",
       "      <td>1</td>\n",
       "      <td>Futrelle, Mrs. Jacques Heath (Lily May Peel)</td>\n",
       "      <td>female</td>\n",
       "      <td>35.0</td>\n",
       "      <td>1</td>\n",
       "      <td>0</td>\n",
       "      <td>113803</td>\n",
       "      <td>53.1000</td>\n",
       "      <td>C123</td>\n",
       "      <td>S</td>\n",
       "    </tr>\n",
       "    <tr>\n",
       "      <th>5</th>\n",
       "      <td>0</td>\n",
       "      <td>3</td>\n",
       "      <td>Allen, Mr. William Henry</td>\n",
       "      <td>male</td>\n",
       "      <td>35.0</td>\n",
       "      <td>0</td>\n",
       "      <td>0</td>\n",
       "      <td>373450</td>\n",
       "      <td>8.0500</td>\n",
       "      <td>NaN</td>\n",
       "      <td>S</td>\n",
       "    </tr>\n",
       "  </tbody>\n",
       "</table>\n",
       "</div>"
      ],
      "text/plain": [
       "             Survived  Pclass  \\\n",
       "PassengerId                     \n",
       "1                   0       3   \n",
       "2                   1       1   \n",
       "3                   1       3   \n",
       "4                   1       1   \n",
       "5                   0       3   \n",
       "\n",
       "                                                          Name     Sex   Age  \\\n",
       "PassengerId                                                                    \n",
       "1                                      Braund, Mr. Owen Harris    male  22.0   \n",
       "2            Cumings, Mrs. John Bradley (Florence Briggs Th...  female  38.0   \n",
       "3                                       Heikkinen, Miss. Laina  female  26.0   \n",
       "4                 Futrelle, Mrs. Jacques Heath (Lily May Peel)  female  35.0   \n",
       "5                                     Allen, Mr. William Henry    male  35.0   \n",
       "\n",
       "             SibSp  Parch            Ticket     Fare Cabin Embarked  \n",
       "PassengerId                                                          \n",
       "1                1      0         A/5 21171   7.2500   NaN        S  \n",
       "2                1      0          PC 17599  71.2833   C85        C  \n",
       "3                0      0  STON/O2. 3101282   7.9250   NaN        S  \n",
       "4                1      0            113803  53.1000  C123        S  \n",
       "5                0      0            373450   8.0500   NaN        S  "
      ]
     },
     "execution_count": 3,
     "metadata": {},
     "output_type": "execute_result"
    }
   ],
   "source": [
    "### preview the data\n",
    "train_df.head()"
   ]
  },
  {
   "cell_type": "code",
   "execution_count": 4,
   "metadata": {},
   "outputs": [
    {
     "data": {
      "text/html": [
       "<div>\n",
       "<style scoped>\n",
       "    .dataframe tbody tr th:only-of-type {\n",
       "        vertical-align: middle;\n",
       "    }\n",
       "\n",
       "    .dataframe tbody tr th {\n",
       "        vertical-align: top;\n",
       "    }\n",
       "\n",
       "    .dataframe thead th {\n",
       "        text-align: right;\n",
       "    }\n",
       "</style>\n",
       "<table border=\"1\" class=\"dataframe\">\n",
       "  <thead>\n",
       "    <tr style=\"text-align: right;\">\n",
       "      <th></th>\n",
       "      <th>Survived</th>\n",
       "      <th>Pclass</th>\n",
       "      <th>Age</th>\n",
       "      <th>SibSp</th>\n",
       "      <th>Parch</th>\n",
       "      <th>Fare</th>\n",
       "    </tr>\n",
       "  </thead>\n",
       "  <tbody>\n",
       "    <tr>\n",
       "      <th>count</th>\n",
       "      <td>891.000000</td>\n",
       "      <td>891.000000</td>\n",
       "      <td>714.000000</td>\n",
       "      <td>891.000000</td>\n",
       "      <td>891.000000</td>\n",
       "      <td>891.000000</td>\n",
       "    </tr>\n",
       "    <tr>\n",
       "      <th>mean</th>\n",
       "      <td>0.383838</td>\n",
       "      <td>2.308642</td>\n",
       "      <td>29.699118</td>\n",
       "      <td>0.523008</td>\n",
       "      <td>0.381594</td>\n",
       "      <td>32.204208</td>\n",
       "    </tr>\n",
       "    <tr>\n",
       "      <th>std</th>\n",
       "      <td>0.486592</td>\n",
       "      <td>0.836071</td>\n",
       "      <td>14.526497</td>\n",
       "      <td>1.102743</td>\n",
       "      <td>0.806057</td>\n",
       "      <td>49.693429</td>\n",
       "    </tr>\n",
       "    <tr>\n",
       "      <th>min</th>\n",
       "      <td>0.000000</td>\n",
       "      <td>1.000000</td>\n",
       "      <td>0.420000</td>\n",
       "      <td>0.000000</td>\n",
       "      <td>0.000000</td>\n",
       "      <td>0.000000</td>\n",
       "    </tr>\n",
       "    <tr>\n",
       "      <th>25%</th>\n",
       "      <td>0.000000</td>\n",
       "      <td>2.000000</td>\n",
       "      <td>20.125000</td>\n",
       "      <td>0.000000</td>\n",
       "      <td>0.000000</td>\n",
       "      <td>7.910400</td>\n",
       "    </tr>\n",
       "    <tr>\n",
       "      <th>50%</th>\n",
       "      <td>0.000000</td>\n",
       "      <td>3.000000</td>\n",
       "      <td>28.000000</td>\n",
       "      <td>0.000000</td>\n",
       "      <td>0.000000</td>\n",
       "      <td>14.454200</td>\n",
       "    </tr>\n",
       "    <tr>\n",
       "      <th>75%</th>\n",
       "      <td>1.000000</td>\n",
       "      <td>3.000000</td>\n",
       "      <td>38.000000</td>\n",
       "      <td>1.000000</td>\n",
       "      <td>0.000000</td>\n",
       "      <td>31.000000</td>\n",
       "    </tr>\n",
       "    <tr>\n",
       "      <th>max</th>\n",
       "      <td>1.000000</td>\n",
       "      <td>3.000000</td>\n",
       "      <td>80.000000</td>\n",
       "      <td>8.000000</td>\n",
       "      <td>6.000000</td>\n",
       "      <td>512.329200</td>\n",
       "    </tr>\n",
       "  </tbody>\n",
       "</table>\n",
       "</div>"
      ],
      "text/plain": [
       "         Survived      Pclass         Age       SibSp       Parch        Fare\n",
       "count  891.000000  891.000000  714.000000  891.000000  891.000000  891.000000\n",
       "mean     0.383838    2.308642   29.699118    0.523008    0.381594   32.204208\n",
       "std      0.486592    0.836071   14.526497    1.102743    0.806057   49.693429\n",
       "min      0.000000    1.000000    0.420000    0.000000    0.000000    0.000000\n",
       "25%      0.000000    2.000000   20.125000    0.000000    0.000000    7.910400\n",
       "50%      0.000000    3.000000   28.000000    0.000000    0.000000   14.454200\n",
       "75%      1.000000    3.000000   38.000000    1.000000    0.000000   31.000000\n",
       "max      1.000000    3.000000   80.000000    8.000000    6.000000  512.329200"
      ]
     },
     "execution_count": 4,
     "metadata": {},
     "output_type": "execute_result"
    }
   ],
   "source": [
    "train_df.describe()"
   ]
  },
  {
   "cell_type": "code",
   "execution_count": 5,
   "metadata": {},
   "outputs": [
    {
     "name": "stdout",
     "output_type": "stream",
     "text": [
      "<class 'pandas.core.frame.DataFrame'>\n",
      "Int64Index: 891 entries, 1 to 891\n",
      "Data columns (total 11 columns):\n",
      "Survived    891 non-null int64\n",
      "Pclass      891 non-null int64\n",
      "Name        891 non-null object\n",
      "Sex         891 non-null object\n",
      "Age         714 non-null float64\n",
      "SibSp       891 non-null int64\n",
      "Parch       891 non-null int64\n",
      "Ticket      891 non-null object\n",
      "Fare        891 non-null float64\n",
      "Cabin       204 non-null object\n",
      "Embarked    889 non-null object\n",
      "dtypes: float64(2), int64(4), object(5)\n",
      "memory usage: 83.5+ KB\n"
     ]
    }
   ],
   "source": [
    "## If we check the data types and value counts for each field, we see that a few\n",
    "## of the fields are missing values. Age is missing 177 values, cabin is missing nearly 700,\n",
    "## and Embarked is missing two.\n",
    "train_df.info()"
   ]
  },
  {
   "cell_type": "code",
   "execution_count": 6,
   "metadata": {},
   "outputs": [
    {
     "name": "stdout",
     "output_type": "stream",
     "text": [
      "<class 'pandas.core.frame.DataFrame'>\n",
      "Int64Index: 418 entries, 892 to 1309\n",
      "Data columns (total 10 columns):\n",
      "Pclass      418 non-null int64\n",
      "Name        418 non-null object\n",
      "Sex         418 non-null object\n",
      "Age         332 non-null float64\n",
      "SibSp       418 non-null int64\n",
      "Parch       418 non-null int64\n",
      "Ticket      418 non-null object\n",
      "Fare        417 non-null float64\n",
      "Cabin       91 non-null object\n",
      "Embarked    418 non-null object\n",
      "dtypes: float64(2), int64(3), object(5)\n",
      "memory usage: 35.9+ KB\n"
     ]
    }
   ],
   "source": [
    "### The test is also missing values for age and cabin, though it has all values\n",
    "### for embarked. It is, however, missing a value for Fare, which we'll\n",
    "### replace with the median\n",
    "test_df.info()"
   ]
  },
  {
   "cell_type": "code",
   "execution_count": 7,
   "metadata": {},
   "outputs": [],
   "source": [
    "### repalce missing fares with the median value\n",
    "combined_df.Fare = combined_df.Fare.fillna(combined_df.Fare.median())"
   ]
  },
  {
   "cell_type": "code",
   "execution_count": 8,
   "metadata": {},
   "outputs": [
    {
     "name": "stdout",
     "output_type": "stream",
     "text": [
      "train_df\n",
      " Survived      2\n",
      "Pclass        3\n",
      "Name        891\n",
      "Sex           2\n",
      "Age          88\n",
      "SibSp         7\n",
      "Parch         7\n",
      "Ticket      681\n",
      "Fare        248\n",
      "Cabin       147\n",
      "Embarked      3\n",
      "dtype: int64\n",
      "----------------------------------------\n",
      "test_df\n",
      " Pclass        3\n",
      "Name        418\n",
      "Sex           2\n",
      "Age          79\n",
      "SibSp         7\n",
      "Parch         8\n",
      "Ticket      363\n",
      "Fare        169\n",
      "Cabin        76\n",
      "Embarked      3\n",
      "dtype: int64\n"
     ]
    }
   ],
   "source": [
    "### Check how many unique values are in each field\n",
    "print('train_df\\n', train_df.nunique())\n",
    "print('-' * 40)\n",
    "print('test_df\\n', test_df.nunique())"
   ]
  },
  {
   "cell_type": "code",
   "execution_count": 9,
   "metadata": {},
   "outputs": [
    {
     "name": "stdout",
     "output_type": "stream",
     "text": [
      "S    644\n",
      "C    168\n",
      "Q     77\n",
      "Name: Embarked, dtype: int64\n"
     ]
    }
   ],
   "source": [
    "### Embarked has two missing values in the training data. Sicnce it only has three possible values,\n",
    "### we'll just impute using the most common value, 'S'\n",
    "print(train_df.Embarked.value_counts())\n",
    "combined_df.Embarked = combined_df.Embarked.fillna('S')\n",
    "combined_df.Embarked = combined_df.Embarked.fillna('S')"
   ]
  },
  {
   "cell_type": "code",
   "execution_count": 10,
   "metadata": {},
   "outputs": [],
   "source": [
    "### The deck that a passenger was on can be derived from the cabin field,\n",
    "### which has a lot of missing values. Before removing cabin, let's see if there are\n",
    "### any patterns for the records that do have values. (I initially ran my model without the\n",
    "### deck column derived from cabin, but the accuracy was a bit higher when deck was included)\n",
    "### Fill the null values with a 'U' for unknown\n",
    "combined_df.Cabin = combined_df.Cabin.fillna('U')\n",
    "### The first character in cabin represents the deck, so extract that into a new column\n",
    "combined_df['deck'] = combined_df['Cabin'].apply(lambda x: x[0:1])\n",
    "### drop Cabin\n",
    "combined_df = combined_df.drop('Cabin', axis = 1)"
   ]
  },
  {
   "cell_type": "markdown",
   "metadata": {},
   "source": [
    "## Exploring the data/feature selection"
   ]
  },
  {
   "cell_type": "code",
   "execution_count": 11,
   "metadata": {},
   "outputs": [],
   "source": [
    "## Before visualzing the relationships between the variables, I'll reset the training\n",
    "## dataframe to reflect changes made so far in the combined df.\n",
    "train_df = combined_df[combined_df.Survived.notnull()]"
   ]
  },
  {
   "cell_type": "code",
   "execution_count": 12,
   "metadata": {},
   "outputs": [],
   "source": [
    "### Function to make a quick plot showing the proportion of a category in each field that survived\n",
    "def survival_barplot(field):\n",
    "    table = train_df.pivot_table(index=field, values='Survived')\n",
    "    table.plot(kind='bar')\n",
    "    plt.ylabel('Survival rate')"
   ]
  },
  {
   "cell_type": "code",
   "execution_count": 13,
   "metadata": {},
   "outputs": [
    {
     "data": {
      "image/png": "[encoded data removed]",
      "text/plain": [
       "<matplotlib.figure.Figure at 0x1111dee10>"
      ]
     },
     "metadata": {},
     "output_type": "display_data"
    }
   ],
   "source": [
    "### Passengers in certain decks were more likely to survive than in others, so we'll retain this variable,\n",
    "### even though it's filled with many 'U' entries\n",
    "plt.style.use('ggplot')\n",
    "survival_barplot('deck')"
   ]
  },
  {
   "cell_type": "code",
   "execution_count": 14,
   "metadata": {},
   "outputs": [
    {
     "data": {
      "image/png": "[encoded data removed]",
      "text/plain": [
       "<matplotlib.figure.Figure at 0x1160d4668>"
      ]
     },
     "metadata": {},
     "output_type": "display_data"
    }
   ],
   "source": [
    "### First class passengers were more likely to survive\n",
    "survival_barplot('Pclass')"
   ]
  },
  {
   "cell_type": "code",
   "execution_count": 15,
   "metadata": {},
   "outputs": [
    {
     "data": {
      "image/png": "[encoded data removed]",
      "text/plain": [
       "<matplotlib.figure.Figure at 0x10f2d5080>"
      ]
     },
     "metadata": {},
     "output_type": "display_data"
    }
   ],
   "source": [
    "#### Women were much more likely to survive than men\n",
    "survival_barplot('Sex')"
   ]
  },
  {
   "cell_type": "code",
   "execution_count": 16,
   "metadata": {},
   "outputs": [
    {
     "data": {
      "image/png": "[encoded data removed]",
      "text/plain": [
       "<matplotlib.figure.Figure at 0x1161e14e0>"
      ]
     },
     "metadata": {},
     "output_type": "display_data"
    }
   ],
   "source": [
    "### The number of siblings/spouse that someone was traveling with appears to be relevant, though\n",
    "### the pattern of survival isn't a linear one. I'll convert this into a categorical variable\n",
    "survival_barplot('SibSp')"
   ]
  },
  {
   "cell_type": "code",
   "execution_count": 17,
   "metadata": {},
   "outputs": [
    {
     "data": {
      "text/plain": [
       "0    608\n",
       "1    209\n",
       "2     28\n",
       "4     18\n",
       "3     16\n",
       "8      7\n",
       "5      5\n",
       "Name: SibSp, dtype: int64"
      ]
     },
     "execution_count": 17,
     "metadata": {},
     "output_type": "execute_result"
    }
   ],
   "source": [
    "train_df.SibSp.value_counts()"
   ]
  },
  {
   "cell_type": "code",
   "execution_count": 18,
   "metadata": {},
   "outputs": [],
   "source": [
    "### Categorize these into three groups: 0, 1-2, 3-4, and 5+\n",
    "combined_df['SibSp_range'] = pd.cut(combined_df.SibSp,\n",
    "       bins = [-1, 0, 2, 4, 10],\n",
    "        labels = ['SipSp_0', 'SipSp_1_2', 'SipSp_3_4', 'SipSp_5+'])\n",
    "\n",
    "sib_sp_cols = pd.get_dummies(combined_df['SibSp_range'])\n",
    "combined_df = pd.concat([combined_df, sib_sp_cols], axis = 1).drop(['SibSp', 'SibSp_range'], axis = 1)"
   ]
  },
  {
   "cell_type": "code",
   "execution_count": 19,
   "metadata": {},
   "outputs": [
    {
     "data": {
      "image/png": "[encoded data removed]",
      "text/plain": [
       "<matplotlib.figure.Figure at 0x117570b70>"
      ]
     },
     "metadata": {},
     "output_type": "display_data"
    }
   ],
   "source": [
    "### There's not much of a linear pattern for Parch either, so I'll categorize this field as well\n",
    "survival_barplot('Parch')"
   ]
  },
  {
   "cell_type": "code",
   "execution_count": 20,
   "metadata": {},
   "outputs": [
    {
     "data": {
      "text/plain": [
       "0    678\n",
       "1    118\n",
       "2     80\n",
       "5      5\n",
       "3      5\n",
       "4      4\n",
       "6      1\n",
       "Name: Parch, dtype: int64"
      ]
     },
     "execution_count": 20,
     "metadata": {},
     "output_type": "execute_result"
    }
   ],
   "source": [
    "train_df.Parch.value_counts()"
   ]
  },
  {
   "cell_type": "code",
   "execution_count": 21,
   "metadata": {},
   "outputs": [],
   "source": [
    "### let's categorize Parch into three groups: 0, 1-3, and 4+ (Because there were so few\n",
    "### values for 3, I lumped it into 1-2)\n",
    "combined_df['Parch_range'] = pd.cut(combined_df.Parch,\n",
    "       bins = [-1, 0, 3, 10],\n",
    "        labels = ['Parch_0', 'Parch_1_3', 'Parch_4+'])\n",
    "\n",
    "parch_cols = pd.get_dummies(combined_df['Parch_range'])\n",
    "combined_df = pd.concat([combined_df, parch_cols], axis = 1).drop(['Parch', 'Parch_range'], axis = 1)"
   ]
  },
  {
   "cell_type": "code",
   "execution_count": 22,
   "metadata": {},
   "outputs": [
    {
     "data": {
      "image/png": "[encoded data removed]",
      "text/plain": [
       "<matplotlib.figure.Figure at 0x117602588>"
      ]
     },
     "metadata": {},
     "output_type": "display_data"
    }
   ],
   "source": [
    "### Where passengers came from also appears to be relevant. We'll use the get_dummies function\n",
    "### to split these values into distinct columns in a bit\n",
    "survival_barplot('Embarked')"
   ]
  },
  {
   "cell_type": "code",
   "execution_count": 23,
   "metadata": {},
   "outputs": [
    {
     "data": {
      "image/png": "[encoded data removed]",
      "text/plain": [
       "<matplotlib.figure.Figure at 0x1177f7898>"
      ]
     },
     "metadata": {},
     "output_type": "display_data"
    }
   ],
   "source": [
    "### When we look at how age relates to survival, there doesn't appear to be much of a\n",
    "### linear relationship, which makes imputing ages a challenge. Being able to use other\n",
    "### fields to accurately estimate whether a child is younger than 10, for example, would\n",
    "### probably help a bit with predicting survival. We're going to experiment with imputing ages\n",
    "### using the mean and via a linear regression and see which leads to a better outcome\n",
    "age_survived = train_df[train_df.Survived == 1].Age\n",
    "age_died = train_df[train_df.Survived == 0].Age\n",
    "age_survived.plot.hist(alpha = .5, color = 'green', bins = 20)\n",
    "age_died.plot.hist(alpha = .5, color = 'red', bins =20)\n",
    "plt.xlabel('Age')\n",
    "plt.show()"
   ]
  },
  {
   "cell_type": "code",
   "execution_count": 24,
   "metadata": {},
   "outputs": [
    {
     "data": {
      "image/png": "[encoded data removed]",
      "text/plain": [
       "<matplotlib.figure.Figure at 0x117821208>"
      ]
     },
     "metadata": {},
     "output_type": "display_data"
    }
   ],
   "source": [
    "#### With ticket prices, there's a bit more of a pattern. I'll keep this as a continuous variable\n",
    "fare_survived = train_df[train_df.Survived == 1].Fare\n",
    "fare_died = train_df[train_df.Survived == 0].Fare\n",
    "fare_survived.plot.hist(alpha = .5, color = 'green', bins = 20)\n",
    "fare_died.plot.hist(alpha = .5, color = 'red', bins =20)\n",
    "### cut off the axis to hide outliers that stretch the chart\n",
    "plt.xlim(0,175)\n",
    "plt.xlabel('Fare price')\n",
    "plt.show()"
   ]
  },
  {
   "cell_type": "code",
   "execution_count": 25,
   "metadata": {},
   "outputs": [],
   "source": [
    "### an additional variable that might be useful can be parsed from the name field,\n",
    "### which appears to use consistent titles (Mr., Mrs., Master, etc). Granted, it's certainly\n",
    "### possible that these titles aren't providing much additional information beyond what's \n",
    "### in other fields (titles implying sex, titles implying an age above childhood, a title implying \n",
    "### the person may be traveling with a spouse, etc)\n",
    "def create_title(df):\n",
    "    name = df.Name\n",
    "    title = 'N/A'\n",
    "    if 'Mrs.' in name or 'Lady.' in name or 'Mlle.' in name \\\n",
    "        or 'Mme.' in name or 'Countess.' in name or 'Dona.' in name:\n",
    "        title = 'Mrs'\n",
    "    elif 'Mr.' in name or 'Rev.' in name or 'Major.' in name or 'Capt.'\\\n",
    "        in name or 'Col.' in name or 'Don.' in name or 'Sir.' in name:\n",
    "        title = 'Mr'\n",
    "    elif 'Miss. ' in name or 'Ms.' in name:\n",
    "        title = 'Miss'\n",
    "    elif 'Master.' in name:\n",
    "        title = 'Master'\n",
    "    elif 'Dr' in name:\n",
    "        title = 'Dr'\n",
    "    ## There's only one guy who doesn't match any above conditions in either dataset\n",
    "    else:\n",
    "        title = 'Mr'\n",
    "    return title"
   ]
  },
  {
   "cell_type": "code",
   "execution_count": 26,
   "metadata": {
    "scrolled": false
   },
   "outputs": [],
   "source": [
    "### apply the above function to the train_df in addition to combined_df just so we can visualize it quickly\n",
    "combined_df['title'] = combined_df.apply(create_title, axis = 1)\n",
    "train_df['title'] = train_df.apply(create_title, axis = 1)"
   ]
  },
  {
   "cell_type": "code",
   "execution_count": 27,
   "metadata": {},
   "outputs": [
    {
     "data": {
      "image/png": "[encoded data removed]",
      "text/plain": [
       "<matplotlib.figure.Figure at 0x11791a208>"
      ]
     },
     "metadata": {},
     "output_type": "display_data"
    }
   ],
   "source": [
    "#### Title appears to be a useful field, in part because it makes a pretty clear delineation\n",
    "### between males with a title of Mr. (very likely to die) and younger boys with \"Master,\" which\n",
    "### could be useful in cases where age is a missing value\n",
    "survival_barplot('title')"
   ]
  },
  {
   "cell_type": "code",
   "execution_count": 28,
   "metadata": {},
   "outputs": [],
   "source": [
    "### Before we can use this data in a model, sex, embarked, class, deck and title all\n",
    "### need be converted to binary numeric variables.\n",
    "dummies = pd.get_dummies(combined_df[['Sex', 'Embarked', 'title', 'deck']])\n",
    "### get_dummies doesn't seem to like column names generated from a numeric value, so\n",
    "### class is being split in a separate command\n",
    "class_dummies = pd.get_dummies(combined_df.Pclass).rename(columns = {1: 'Pclass_1',\n",
    "                                                                 2: 'Pclass_2',\n",
    "                                                                 3: 'Pclass_3'})\n",
    "\n",
    "combined_df = pd.concat([combined_df, dummies, class_dummies], axis = 1)\n",
    "\n",
    "### we can then drop the original variables that have been coded, along with names,\n",
    "### which we no longer need, and ticket, which we won't use\n",
    "combined_df = combined_df.drop(['Sex', 'Embarked', 'Pclass', 'title', 'Name', 'Ticket', 'deck'], axis = 1)"
   ]
  },
  {
   "cell_type": "code",
   "execution_count": 29,
   "metadata": {},
   "outputs": [],
   "source": [
    "#### split the combined df back into training and test data\n",
    "train_df = combined_df[combined_df.Survived.notnull()]\n",
    "test_df = combined_df[combined_df.Survived.isnull()].drop('Survived', axis = 1)"
   ]
  },
  {
   "cell_type": "markdown",
   "metadata": {},
   "source": [
    "## Handling missing ages\n",
    "- I'm going to test imputing ages using the mean and by making predictions via linear regression, and I'll use logistic regression to test which approach produces a better accuracy score"
   ]
  },
  {
   "cell_type": "code",
   "execution_count": 30,
   "metadata": {},
   "outputs": [],
   "source": [
    "### initially, I'll try imputing ages with the mean.\n",
    "train_agemn = train_df.copy(deep=True)\n",
    "train_agemn['age_mean'] = train_agemn.Age.fillna(train_agemn.Age.mean())"
   ]
  },
  {
   "cell_type": "code",
   "execution_count": 31,
   "metadata": {},
   "outputs": [],
   "source": [
    "### now divide the age_mean field into buckets\n",
    "### Divide the ages into 10-year buckets\n",
    "train_agemn['age_range'] = pd.cut(train_agemn.age_mean,\n",
    "       bins = [x * 10 for x in range(0,10)],\n",
    "        labels = ['Age_0_10', 'Age_10_20', 'Age_20_30', 'Age_30_40', 'Age_40_50',\n",
    "                  'Age_50_60', 'Age_60_70', 'Age_70_80', 'Age_80_90'])\n",
    "\n",
    "age_cols = pd.get_dummies(train_agemn['age_range'])\n",
    "train_agemn = pd.concat([train_agemn, age_cols], axis = 1)"
   ]
  },
  {
   "cell_type": "code",
   "execution_count": 32,
   "metadata": {},
   "outputs": [],
   "source": [
    "### split the data into x/y sets\n",
    "x = train_agemn.drop(['Survived', 'Age', 'age_mean', 'age_range'], axis = 1)\n",
    "y = train_agemn[['Survived']].values.ravel()"
   ]
  },
  {
   "cell_type": "code",
   "execution_count": 33,
   "metadata": {},
   "outputs": [
    {
     "data": {
      "text/plain": [
       "0.8260730331759101"
      ]
     },
     "execution_count": 33,
     "metadata": {},
     "output_type": "execute_result"
    }
   ],
   "source": [
    "#### Using logistic regression and calculating a cross-validated mean accruacy score\n",
    "log_reg_agemn = LogisticRegression()\n",
    "np.mean(cross_val_score(log_reg_agemn, x, y, cv = 5))"
   ]
  },
  {
   "cell_type": "code",
   "execution_count": 34,
   "metadata": {},
   "outputs": [],
   "source": [
    "#### Now, I'll try imputing the ages using linear regression. \n",
    "train_agelm = train_df.copy(deep=True)\n",
    "\n",
    "### First, split the data according to whether ages are null -- I'll use the has_ages\n",
    "## df to create and test a model\n",
    "has_ages = train_agelm[train_agelm.Age.notnull()]\n",
    "no_ages = train_agelm[train_agelm.Age.isnull()].drop(['Age'], axis = 1)"
   ]
  },
  {
   "cell_type": "code",
   "execution_count": 35,
   "metadata": {},
   "outputs": [],
   "source": [
    "### split the has_ages data into x and y sets.\n",
    "x_ages = has_ages.drop(['Survived', 'Age'], axis = 1)\n",
    "y_ages = has_ages[['Age']]"
   ]
  },
  {
   "cell_type": "code",
   "execution_count": 36,
   "metadata": {},
   "outputs": [
    {
     "name": "stdout",
     "output_type": "stream",
     "text": [
      "Best params :  {'copy_X': True, 'fit_intercept': True, 'normalize': False}\n"
     ]
    }
   ],
   "source": [
    "lm = LinearRegression()\n",
    "\n",
    "### Use GridSearchCV to test optimal parameters\n",
    "param_grid = {'fit_intercept':[True,False],\n",
    "              'normalize':[True,False],\n",
    "              'copy_X':[True, False]}\n",
    "\n",
    "lm_cv = GridSearchCV(lm, param_grid, cv=5)\n",
    "lm_cv.fit(x_ages, y_ages)\n",
    "print(\"Best params : \", lm_cv.best_params_)"
   ]
  },
  {
   "cell_type": "code",
   "execution_count": 37,
   "metadata": {},
   "outputs": [],
   "source": [
    "### see how fitting the model with the above parameters performs on a random sample\n",
    "### so we can plot the results compared to the actual values\n",
    "x_age_train, x_age_test, y_age_train, y_age_test = train_test_split(x_ages, y_ages,\n",
    "                                                        test_size = 0.2, random_state = 1)\n",
    "\n",
    "age_predictions = lm_cv.predict(x_age_test)"
   ]
  },
  {
   "cell_type": "code",
   "execution_count": 38,
   "metadata": {},
   "outputs": [
    {
     "data": {
      "image/png": "[encoded data removed]",
      "text/plain": [
       "<matplotlib.figure.Figure at 0x1178c5550>"
      ]
     },
     "metadata": {},
     "output_type": "display_data"
    }
   ],
   "source": [
    "plt.scatter(y_age_test.values, age_predictions, marker = 'o')\n",
    "plt.xlabel('Actual ages')\n",
    "plt.ylabel('Predicted ages')\n",
    "plt.show()"
   ]
  },
  {
   "cell_type": "code",
   "execution_count": 39,
   "metadata": {},
   "outputs": [
    {
     "data": {
      "text/plain": [
       "0.5290863267122428"
      ]
     },
     "execution_count": 39,
     "metadata": {},
     "output_type": "execute_result"
    }
   ],
   "source": [
    "### This might be more helpful to the model than simply imputing the mean,\n",
    "### since it does appear to get close when it comes to predicting ages of\n",
    "### some young children, who are much more likley to survive\n",
    "r2_score(y_age_test, age_predictions)"
   ]
  },
  {
   "cell_type": "code",
   "execution_count": 40,
   "metadata": {},
   "outputs": [],
   "source": [
    "### use the model to predict ages in the no_ages df\n",
    "final_age_preds = lm_cv.predict(no_ages.drop('Survived', axis = 1))"
   ]
  },
  {
   "cell_type": "code",
   "execution_count": 41,
   "metadata": {},
   "outputs": [],
   "source": [
    "### create a new column for ages that were imputed using regression\n",
    "no_ages['age_lm'] = final_age_preds\n",
    "\n",
    "### the above plot showed some predicted ages might end up negative. We'll simply change those to 0.1\n",
    "no_ages.age_lm = no_ages.age_lm.apply(lambda x: 0.1 if x < 0 else x)"
   ]
  },
  {
   "cell_type": "code",
   "execution_count": 42,
   "metadata": {},
   "outputs": [],
   "source": [
    "## append the data with and without ages back together into a new df\n",
    "train_agelm = has_ages.append(no_ages).sort_index()"
   ]
  },
  {
   "cell_type": "code",
   "execution_count": 43,
   "metadata": {},
   "outputs": [],
   "source": [
    "### set the age_lm values in train_df to Age if they're null\n",
    "train_agelm.age_lm = train_agelm.apply(lambda x: x['Age'] if isnan(x['age_lm']) else x['age_lm'], axis = 1)"
   ]
  },
  {
   "cell_type": "code",
   "execution_count": 44,
   "metadata": {},
   "outputs": [],
   "source": [
    "### Divide the ages into 10-year buckets using age_lm\n",
    "train_agelm['age_range'] = pd.cut(train_agelm.age_lm,\n",
    "       bins = [x * 10 for x in range(0,9)],\n",
    "        labels = ['Age_0_10', 'Age_10_20', 'Age_20_30', 'Age_30_40', 'Age_40_50',\n",
    "                  'Age_50_60', 'Age_60_70', 'Age_70_80'])\n",
    "\n",
    "age_cols = pd.get_dummies(train_agelm['age_range'])\n",
    "train_agelm = pd.concat([train_agelm, age_cols], axis = 1)"
   ]
  },
  {
   "cell_type": "code",
   "execution_count": 45,
   "metadata": {},
   "outputs": [],
   "source": [
    "### drop the original age, age_lm and age_range fields, which are no longer needed\n",
    "train_agelm = train_agelm.drop(['Age', 'age_lm', 'age_range'], axis = 1)"
   ]
  },
  {
   "cell_type": "code",
   "execution_count": 46,
   "metadata": {},
   "outputs": [
    {
     "data": {
      "text/plain": [
       "0.8283265721843529"
      ]
     },
     "execution_count": 46,
     "metadata": {},
     "output_type": "execute_result"
    }
   ],
   "source": [
    "#### Split the data into x/y sets and use cross validation to train and test the model\n",
    "x = train_agelm.drop(['Survived'], axis = 1)\n",
    "y = train_agelm[['Survived']].values.ravel()\n",
    "\n",
    "log_reg_agelm = LogisticRegression()\n",
    "np.mean(cross_val_score(log_reg_agelm, x, y, cv = 5))"
   ]
  },
  {
   "cell_type": "code",
   "execution_count": 47,
   "metadata": {},
   "outputs": [],
   "source": [
    "#### The average cross-validated accuracy score was marginally higher when missing\n",
    "#### ages were imputed using regression than when using the mean, so I'll use that\n",
    "#### approach for imputing ages moving forward, though this might not make a significant\n",
    "### difference\n",
    "final_df = train_agelm.copy(deep = True)"
   ]
  },
  {
   "cell_type": "code",
   "execution_count": 48,
   "metadata": {},
   "outputs": [],
   "source": [
    "#### Make the same changes to the test data that were just made to the train_agelm data,\n",
    "### including applying the regression model to the test set\n",
    "test_no_ages = test_df[test_df.Age.isnull()].drop('Age', axis = 1)\n",
    "test_has_ages = test_df[test_df.Age.notnull()]\n",
    "\n",
    "### use the model to impute the ages\n",
    "test_no_ages['Age'] = lm_cv.predict(test_no_ages)\n",
    "\n",
    "### append the data back togethr\n",
    "test_df = test_no_ages.append(test_has_ages).sort_index()"
   ]
  },
  {
   "cell_type": "code",
   "execution_count": 49,
   "metadata": {},
   "outputs": [],
   "source": [
    "#### Again, for the test df, divide the ages into 10-year buckets\n",
    "test_df['age_range'] = pd.cut(test_df.Age,\n",
    "       bins = [x * 10 for x in range(0,9)],\n",
    "        labels = ['Age_0_10', 'Age_10_20', 'Age_20_30', 'Age_30_40', 'Age_40_50',\n",
    "                  'Age_50_60', 'Age_60_70', 'Age_70_80'])\n",
    "\n",
    "age_cols = pd.get_dummies(test_df['age_range'])\n",
    "test_df = pd.concat([test_df, age_cols], axis = 1)\n",
    "\n",
    "### then drop the age and age_range columns\n",
    "test_df = test_df.drop(['Age', 'age_range'], axis = 1)"
   ]
  },
  {
   "cell_type": "code",
   "execution_count": 50,
   "metadata": {},
   "outputs": [
    {
     "data": {
      "text/plain": [
       "{'Survived'}"
      ]
     },
     "execution_count": 50,
     "metadata": {},
     "output_type": "execute_result"
    }
   ],
   "source": [
    "#### make sure the test and train dfs have the same columns, with the exception of Survived\n",
    "set(final_df) ^ set(test_df)"
   ]
  },
  {
   "cell_type": "markdown",
   "metadata": {},
   "source": [
    "## Testing different models\n",
    "### Now that paramaters are finalized, I'll test the following models:\n",
    "- Logistic Regression\n",
    "- Linear SVC\n",
    "- K-means clustering\n",
    "- Random Forest\n",
    "- Decision Tree"
   ]
  },
  {
   "cell_type": "code",
   "execution_count": 51,
   "metadata": {},
   "outputs": [],
   "source": [
    "### split the final df into x/y train/test data\n",
    "x = final_df.drop(['Survived'], axis = 1)\n",
    "y = final_df[['Survived']].values.ravel()"
   ]
  },
  {
   "cell_type": "code",
   "execution_count": 52,
   "metadata": {},
   "outputs": [],
   "source": [
    "### Function using gridsearchcv for cross-validation and parameter tuning. Returns\n",
    "### model with parameters that produced the highest accuracy score\n",
    "def score_model(model, param_grid):\n",
    "\n",
    "    model_cv = GridSearchCV(model, param_grid, cv = 5, scoring = 'accuracy')\n",
    "    model_cv.fit(x, y)\n",
    "    print(\"Best score:\", model_cv.best_score_)\n",
    "    print(\"Params chosen: \",(model_cv.best_params_))\n",
    "    return model_cv"
   ]
  },
  {
   "cell_type": "code",
   "execution_count": 53,
   "metadata": {},
   "outputs": [
    {
     "name": "stdout",
     "output_type": "stream",
     "text": [
      "Best score: 0.8294051627384961\n",
      "Params chosen:  {'C': 0.4393970560760795, 'fit_intercept': True, 'penalty': 'l2'}\n"
     ]
    }
   ],
   "source": [
    "## Logistic Regression\n",
    "logreg = LogisticRegression()\n",
    "c = np.logspace(-5, 8, 15)\n",
    "param_grid = {'C': c,\n",
    "             'penalty': ['l1', 'l2'],\n",
    "             'fit_intercept': [True, False],\n",
    "             }\n",
    "logreg_final_model = score_model(logreg, param_grid)"
   ]
  },
  {
   "cell_type": "code",
   "execution_count": 54,
   "metadata": {},
   "outputs": [
    {
     "name": "stdout",
     "output_type": "stream",
     "text": [
      "Best score: 0.8237934904601572\n",
      "Params chosen:  {'C': 0.05179474679231213, 'fit_intercept': False}\n"
     ]
    }
   ],
   "source": [
    "## Linear SVC Regression\n",
    "svc = LinearSVC()\n",
    "c = np.logspace(-5, 8, 15)\n",
    "param_grid = {\n",
    "            'C': c,\n",
    "            'fit_intercept': [True, False]\n",
    "            }\n",
    "svc_final_model = score_model(svc, param_grid)"
   ]
  },
  {
   "cell_type": "code",
   "execution_count": 55,
   "metadata": {},
   "outputs": [
    {
     "name": "stdout",
     "output_type": "stream",
     "text": [
      "Best score: 0.7878787878787878\n",
      "Params chosen:  {'n_neighbors': 7, 'weights': 'uniform'}\n"
     ]
    }
   ],
   "source": [
    "## K-means\n",
    "km = KNeighborsClassifier()\n",
    "param_grid = {\n",
    "            'n_neighbors': np.arange(1, 50),\n",
    "            'weights': ['uniform', 'distance']\n",
    "}\n",
    "km_final_model = score_model(km, param_grid)"
   ]
  },
  {
   "cell_type": "code",
   "execution_count": 56,
   "metadata": {},
   "outputs": [
    {
     "name": "stdout",
     "output_type": "stream",
     "text": [
      "Best score: 0.8327721661054994\n",
      "Params chosen:  {'criterion': 'gini', 'max_depth': 4, 'max_leaf_nodes': None, 'min_samples_leaf': 1, 'min_samples_split': 5}\n"
     ]
    }
   ],
   "source": [
    "### Decision Tree\n",
    "dt = DecisionTreeClassifier()\n",
    "param_grid = {\n",
    "            'criterion' :['gini', 'entropy'],\n",
    "            'max_depth': np.arange(1,20),\n",
    "            'max_leaf_nodes': [None, 5, 10, 20],\n",
    "            'min_samples_split': [2, 5, 10],\n",
    "            'min_samples_leaf': [1, 5, 10]\n",
    "            }\n",
    "df_final_model = score_model(dt, param_grid)"
   ]
  },
  {
   "cell_type": "code",
   "execution_count": 57,
   "metadata": {},
   "outputs": [
    {
     "name": "stdout",
     "output_type": "stream",
     "text": [
      "Best score: 0.8338945005611672\n",
      "Params chosen:  {'criterion': 'gini', 'max_depth': 7, 'max_features': 'auto', 'n_estimators': 200}\n"
     ]
    }
   ],
   "source": [
    "### random forest. Attempting to tune additional parameters didn't do much to improve accuracy\n",
    "### and significantly increased processing time (this is quite slow as is), so I've limited\n",
    "### parameters to what's included below\n",
    "rm = RandomForestClassifier()\n",
    "param_grid = { \n",
    "    'n_estimators': [200, 500],\n",
    "    'max_features': ['auto', 'sqrt', 'log2'],\n",
    "    'max_depth' : np.arange(1,10),\n",
    "    'criterion' :['gini', 'entropy']\n",
    "}\n",
    "rm_final_model = score_model(rm, param_grid)"
   ]
  },
  {
   "cell_type": "code",
   "execution_count": 58,
   "metadata": {},
   "outputs": [],
   "source": [
    "### By the slimmest of nargins, a random forest classifier produced the best\n",
    "### cross-validated accuracy score, so we'll use it to make predictions on test_df \n",
    "final_preds = rm_final_model.predict(test_df)\n",
    "test_df['Survived'] = final_preds"
   ]
  },
  {
   "cell_type": "code",
   "execution_count": 59,
   "metadata": {},
   "outputs": [],
   "source": [
    "### kaggle requires predictions to be integers, not floats\n",
    "test_df.Survived = test_df.Survived.astype('int')"
   ]
  },
  {
   "cell_type": "code",
   "execution_count": 61,
   "metadata": {},
   "outputs": [],
   "source": [
    "### write the final predictions to a file\n",
    "test_df[['Survived']].to_csv('submission.csv')"
   ]
  },
  {
   "cell_type": "code",
   "execution_count": null,
   "metadata": {},
   "outputs": [],
   "source": []
  }
 ],
 "metadata": {
  "kernelspec": {
   "display_name": "Python 3",
   "language": "python",
   "name": "python3"
  },
  "language_info": {
   "codemirror_mode": {
    "name": "ipython",
    "version": 3
   },
   "file_extension": ".py",
   "mimetype": "text/x-python",
   "name": "python",
   "nbconvert_exporter": "python",
   "pygments_lexer": "ipython3",
   "version": "3.6.4"
  }
 },
 "nbformat": 4,
 "nbformat_minor": 2
}
